{
 "cells": [
  {
   "cell_type": "markdown",
   "id": "96ab5170",
   "metadata": {},
   "source": [
    "### Ecosystems\n",
    "Concept Overview\n",
    "Imagine two different ecosystems: the Savanna and the Arctic. In the Savanna, you have a Lion (predator) and a Zebra (prey). In the Arctic, you have a Polar Bear (predator) and a Seal (prey). Rather than hardcoding the pairing of these animals in your simulation, you'll use the `Abstract Factory pattern to encapsulate the creation of animal pairs for each ecosystem. This design decouples the client code from the specifics of each ecosystem, allowing you to switch contexts seamlessly.\n",
    "\n",
    "Key Components\n",
    "Abstract Products:\n",
    "\n",
    "Predator: Represents a generic predator with a behavior (e.g., hunting).\n",
    "\n",
    "Prey: Represents a generic prey with a behavior (e.g., fleeing).\n",
    "\n",
    "Concrete Products:\n",
    "\n",
    "Savanna Ecosystem:\n",
    "\n",
    "Lion (Predator)\n",
    "\n",
    "Zebra (Prey)\n",
    "\n",
    "Arctic Ecosystem:\n",
    "\n",
    "Polar Bear (Predator)\n",
    "\n",
    "Seal (Prey)\n",
    "\n",
    "Abstract Factory:\n",
    "\n",
    "EcosystemFactory: Declares methods for creating abstract products (predator and prey).\n",
    "\n",
    "Concrete Factories:\n",
    "\n",
    "SavannaFactory: Creates a Lion and a Zebra.\n",
    "\n",
    "ArcticFactory: Creates a Polar Bear and a Seal.\n",
    "\n",
    "Client Code:\n",
    "\n",
    "A simulation function that, based on the chosen factory, retrieves the appropriate predator and prey and simulates a small scenario where the predator hunts and the prey flees.\n",
    " \n",
    "\n",
    "\n"
   ]
  },
  {
   "cell_type": "code",
   "execution_count": null,
   "id": "b8972a29",
   "metadata": {},
   "outputs": [],
   "source": [
    "@dataclass\n",
    "class Animal(ABC)"
   ]
  },
  {
   "cell_type": "code",
   "execution_count": null,
   "id": "df093871",
   "metadata": {},
   "outputs": [],
   "source": [
    "from __future__ import annotations\n",
    "from abc import ABC, abstractmethod\n",
    "from dataclasses import dataclass\n",
    "\n",
    "\n",
    "\n",
    "\n",
    "class Predator(ABC):\n",
    "    \"\"\"_summary_\n",
    "    Args:\n",
    "        ABC (_type_): _description_s\n",
    "\n",
    "    Returns:\n",
    "        _type_: _description_\n",
    "    \"\"\"\n",
    "    _sound : None\n",
    "    _speed : int\n",
    "\n",
    "    @abstractmethod\n",
    "    def eats(prey : Prey) -> int:\n",
    "        \"\"\"_summary_\n",
    "\n",
    "        Args:\n",
    "            prey (Prey): hunts the prey \n",
    "\n",
    "        Returns:\n",
    "            int: returns the calories that the Predator got\n",
    "        \"\"\"\n",
    "        return NotImplemented\n",
    "    \n",
    "    @property\n",
    "    def speed(self) -> int:\n",
    "        return self._speed"
   ]
  },
  {
   "cell_type": "code",
   "execution_count": null,
   "id": "8542764c",
   "metadata": {},
   "outputs": [],
   "source": [
    "@dataclass\n",
    "class Prey(ABC):\n",
    "    "
   ]
  }
 ],
 "metadata": {
  "kernelspec": {
   "display_name": "sysdes",
   "language": "python",
   "name": "python3"
  },
  "language_info": {
   "codemirror_mode": {
    "name": "ipython",
    "version": 3
   },
   "file_extension": ".py",
   "mimetype": "text/x-python",
   "name": "python",
   "nbconvert_exporter": "python",
   "pygments_lexer": "ipython3",
   "version": "3.13.3"
  }
 },
 "nbformat": 4,
 "nbformat_minor": 5
}
